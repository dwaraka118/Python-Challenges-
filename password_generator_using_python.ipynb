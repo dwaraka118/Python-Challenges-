{
  "nbformat": 4,
  "nbformat_minor": 0,
  "metadata": {
    "colab": {
      "name": "password_generator_using_python.ipynb",
      "provenance": [],
      "authorship_tag": "ABX9TyOtIWlYKo4ef31vZ5gkQ4fK",
      "include_colab_link": true
    },
    "kernelspec": {
      "name": "python3",
      "display_name": "Python 3"
    }
  },
  "cells": [
    {
      "cell_type": "markdown",
      "metadata": {
        "id": "view-in-github",
        "colab_type": "text"
      },
      "source": [
        "<a href=\"https://colab.research.google.com/github/dwaraka118/Python-Challenges-/blob/master/password_generator_using_python.ipynb\" target=\"_parent\"><img src=\"https://colab.research.google.com/assets/colab-badge.svg\" alt=\"Open In Colab\"/></a>"
      ]
    },
    {
      "cell_type": "markdown",
      "metadata": {
        "id": "-_H1PTs4pZrI",
        "colab_type": "text"
      },
      "source": [
        "simple password generator using lower case alphabets \n"
      ]
    },
    {
      "cell_type": "code",
      "metadata": {
        "id": "UsxpJvXjnrrY",
        "colab_type": "code",
        "colab": {}
      },
      "source": [
        "import random\n",
        "import string"
      ],
      "execution_count": null,
      "outputs": []
    },
    {
      "cell_type": "code",
      "metadata": {
        "id": "WdeZT2IGoBt7",
        "colab_type": "code",
        "colab": {
          "base_uri": "https://localhost:8080/",
          "height": 51
        },
        "outputId": "43fecbaf-c15b-44e0-9293-156a81c1228e"
      },
      "source": [
        "len = int(input('enter the length of password you want :'))\n",
        "def generate_strong_password(len):\n",
        "    alphabhets = string.ascii_lowercase\n",
        "    return ''.join(random.choice(alphabhets) for i in range(len))\n",
        "a = generate_strong_password(len)\n",
        "print(a)"
      ],
      "execution_count": null,
      "outputs": [
        {
          "output_type": "stream",
          "text": [
            "enter the length of password you want :9\n",
            "hdlwwgmjf\n"
          ],
          "name": "stdout"
        }
      ]
    },
    {
      "cell_type": "code",
      "metadata": {
        "id": "bmIdQJSuPs4I",
        "colab_type": "code",
        "colab": {}
      },
      "source": [
        ""
      ],
      "execution_count": null,
      "outputs": []
    },
    {
      "cell_type": "markdown",
      "metadata": {
        "id": "534OGVCqvxI6",
        "colab_type": "text"
      },
      "source": [
        "Mixed of small and capital letter password"
      ]
    },
    {
      "cell_type": "code",
      "metadata": {
        "id": "Jd8TFKOEoEIy",
        "colab_type": "code",
        "colab": {
          "base_uri": "https://localhost:8080/",
          "height": 51
        },
        "outputId": "f6119786-d869-4c8a-c404-e1c66f19b019"
      },
      "source": [
        "len = int(input('enter the length of password you want :'))\n",
        "def generate_strong_password(len):\n",
        "    alphabhets = string.ascii_letters\n",
        "    return ''.join(random.choice(alphabhets) for i in range(len))\n",
        "a = generate_strong_password(len)\n",
        "print(a)"
      ],
      "execution_count": null,
      "outputs": [
        {
          "output_type": "stream",
          "text": [
            "enter the length of password you want :9\n",
            "COPSxJSFy\n"
          ],
          "name": "stdout"
        }
      ]
    },
    {
      "cell_type": "markdown",
      "metadata": {
        "id": "ShcVMeuRwW_5",
        "colab_type": "text"
      },
      "source": [
        "Mixed of small and capital letter  and numbers password"
      ]
    },
    {
      "cell_type": "code",
      "metadata": {
        "id": "O0pww6SBwcYF",
        "colab_type": "code",
        "colab": {
          "base_uri": "https://localhost:8080/",
          "height": 51
        },
        "outputId": "da42ee97-1f02-483e-ff0c-19d5944252ef"
      },
      "source": [
        "len = int(input('enter the length of password you want :'))\n",
        "def generate_strong_password(len):\n",
        "    alphabhets = string.ascii_letters + string.digits\n",
        "    return ''.join(random.choice(alphabhets) for i in range(len))\n",
        "a = generate_strong_password(len)\n",
        "print(a)"
      ],
      "execution_count": null,
      "outputs": [
        {
          "output_type": "stream",
          "text": [
            "enter the length of password you want :9\n",
            "FcT8piEHP\n"
          ],
          "name": "stdout"
        }
      ]
    },
    {
      "cell_type": "markdown",
      "metadata": {
        "id": "hg-pQLNRxgcn",
        "colab_type": "text"
      },
      "source": [
        ""
      ]
    },
    {
      "cell_type": "markdown",
      "metadata": {
        "id": "13sVi_xAxhbk",
        "colab_type": "text"
      },
      "source": [
        "Mixed of small and capital letter  and numbers  and punctuationas password"
      ]
    },
    {
      "cell_type": "code",
      "metadata": {
        "id": "PH_5rwRIxmUF",
        "colab_type": "code",
        "colab": {
          "base_uri": "https://localhost:8080/",
          "height": 51
        },
        "outputId": "153d685d-d379-44da-eb1d-e34c5bc998c2"
      },
      "source": [
        "len = int(input('enter the length of password you want :'))\n",
        "def generate_strong_password(len):\n",
        "    password = string.ascii_letters + string.digits + string.punctuation\n",
        "    return ''.join(random.choice(password) for i in range(len))\n",
        "a = generate_strong_password(len)\n",
        "print(a)"
      ],
      "execution_count": null,
      "outputs": [
        {
          "output_type": "stream",
          "text": [
            "enter the length of password you want :9\n",
            "4rf26\"!R*\n"
          ],
          "name": "stdout"
        }
      ]
    },
    {
      "cell_type": "code",
      "metadata": {
        "id": "m2RdUJlYPvHh",
        "colab_type": "code",
        "colab": {}
      },
      "source": [
        ""
      ],
      "execution_count": null,
      "outputs": []
    },
    {
      "cell_type": "code",
      "metadata": {
        "id": "hVFCqRtDPvYn",
        "colab_type": "code",
        "colab": {
          "base_uri": "https://localhost:8080/",
          "height": 350
        },
        "outputId": "ee9f3428-0868-43f8-ef3b-6ee5302ff9d0"
      },
      "source": [
        "import random \n",
        "import array \n",
        "\n",
        "# maximum length of password needed \n",
        "# this can be changed to suit your password length \n",
        "MAX_LEN = 12\n",
        "\n",
        "# declare arrays of the character that we need in out password \n",
        "# Represented as chars to enable easy string concatenation \n",
        "DIGITS = ['0', '1', '2', '3', '4', '5', '6', '7', '8', '9'] \n",
        "LOCASE_CHARACTERS = ['a', 'b', 'c', 'd', 'e', 'f', 'g', 'h', 'i', 'j', 'k', 'm', 'n', 'o', 'p', 'q', 'r', 's', 't', 'u', 'v', 'w', 'x', 'y', 'z'] \n",
        "\n",
        "UPCASE_CHARACTERS = ['A', 'B', 'C', 'D', 'E', 'F', 'G', 'H', 'I', 'J', 'K', 'M', 'N', 'O', 'p', 'Q', 'R', 'S', 'T', 'U', 'V', 'W', 'X', 'Y', 'Z'] \n",
        "\n",
        "SYMBOLS = ['@', '#', '$', '%', '=', ':', '?', '.', '/', '|', '~', '>',  '*', '(', ')',]\n",
        "# combines all the character arrays above to form one array \n",
        "COMBINED_LIST = DIGITS + UPCASE_CHARACTERS + LOCASE_CHARACTERS + SYMBOLS \n",
        "\n",
        "# randomly select at least one character from each character set above \n",
        "rand_digit = random.choice(DIGITS) \n",
        "rand_upper = random.choice(UPCASE_CHARACTERS) \n",
        "rand_lower = random.choice(LOCASE_CHARACTERS) \n",
        "rand_symbol = random.choice(SYMBOLS) \n",
        "\n",
        "# combine the character randomly selected above \n",
        "# at this stage, the password contains only 4 characters but \n",
        "# we want a 12-character password \n",
        "temp_pass = rand_digit + rand_upper + rand_lower + rand_symbol \n",
        "\n",
        "\n",
        "# now that we are sure we have at least one character from each \n",
        "# set of characters, we fill the rest of \n",
        "# the password length by selecting randomly from the combined \n",
        "# list of character above. \n",
        "for x in range(MAX_LEN - 4): \n",
        "\ttemp_pass = temp_pass + random.choice(COMBINED_LIST) \n",
        "\t# convert temporary password into array and shuffle to \n",
        "\t# prevent it from having a consistent pattern \n",
        "\t# where the beginning of the password is predictable \n",
        "\t\n",
        "\ttemp_pass = random.shuffle(temp_pass) \n",
        "\n",
        "# traverse the temporary password array and append the chars \n",
        "# to form the password \n",
        "password = \"\" \n",
        "for x in temp_pass: \n",
        "\t\tpassword = password + x \n",
        "\t\t\n",
        "# print out password \n",
        "print(password) \n"
      ],
      "execution_count": null,
      "outputs": [
        {
          "output_type": "error",
          "ename": "TypeError",
          "evalue": "ignored",
          "traceback": [
            "\u001b[0;31m---------------------------------------------------------------------------\u001b[0m",
            "\u001b[0;31mTypeError\u001b[0m                                 Traceback (most recent call last)",
            "\u001b[0;32m<ipython-input-5-887cf8abdb15>\u001b[0m in \u001b[0;36m<module>\u001b[0;34m()\u001b[0m\n\u001b[1;32m     39\u001b[0m         \u001b[0;31m# where the beginning of the password is predictable\u001b[0m\u001b[0;34m\u001b[0m\u001b[0;34m\u001b[0m\u001b[0;34m\u001b[0m\u001b[0m\n\u001b[1;32m     40\u001b[0m \u001b[0;34m\u001b[0m\u001b[0m\n\u001b[0;32m---> 41\u001b[0;31m         \u001b[0mrandom\u001b[0m\u001b[0;34m.\u001b[0m\u001b[0mshuffle\u001b[0m\u001b[0;34m(\u001b[0m\u001b[0mtemp_pass\u001b[0m\u001b[0;34m)\u001b[0m\u001b[0;34m\u001b[0m\u001b[0;34m\u001b[0m\u001b[0m\n\u001b[0m\u001b[1;32m     42\u001b[0m \u001b[0;34m\u001b[0m\u001b[0m\n\u001b[1;32m     43\u001b[0m \u001b[0;31m# traverse the temporary password array and append the chars\u001b[0m\u001b[0;34m\u001b[0m\u001b[0;34m\u001b[0m\u001b[0;34m\u001b[0m\u001b[0m\n",
            "\u001b[0;32m/usr/lib/python3.6/random.py\u001b[0m in \u001b[0;36mshuffle\u001b[0;34m(self, x, random)\u001b[0m\n\u001b[1;32m    275\u001b[0m                 \u001b[0;31m# pick an element in x[:i+1] with which to exchange x[i]\u001b[0m\u001b[0;34m\u001b[0m\u001b[0;34m\u001b[0m\u001b[0;34m\u001b[0m\u001b[0m\n\u001b[1;32m    276\u001b[0m                 \u001b[0mj\u001b[0m \u001b[0;34m=\u001b[0m \u001b[0mrandbelow\u001b[0m\u001b[0;34m(\u001b[0m\u001b[0mi\u001b[0m\u001b[0;34m+\u001b[0m\u001b[0;36m1\u001b[0m\u001b[0;34m)\u001b[0m\u001b[0;34m\u001b[0m\u001b[0;34m\u001b[0m\u001b[0m\n\u001b[0;32m--> 277\u001b[0;31m                 \u001b[0mx\u001b[0m\u001b[0;34m[\u001b[0m\u001b[0mi\u001b[0m\u001b[0;34m]\u001b[0m\u001b[0;34m,\u001b[0m \u001b[0mx\u001b[0m\u001b[0;34m[\u001b[0m\u001b[0mj\u001b[0m\u001b[0;34m]\u001b[0m \u001b[0;34m=\u001b[0m \u001b[0mx\u001b[0m\u001b[0;34m[\u001b[0m\u001b[0mj\u001b[0m\u001b[0;34m]\u001b[0m\u001b[0;34m,\u001b[0m \u001b[0mx\u001b[0m\u001b[0;34m[\u001b[0m\u001b[0mi\u001b[0m\u001b[0;34m]\u001b[0m\u001b[0;34m\u001b[0m\u001b[0;34m\u001b[0m\u001b[0m\n\u001b[0m\u001b[1;32m    278\u001b[0m         \u001b[0;32melse\u001b[0m\u001b[0;34m:\u001b[0m\u001b[0;34m\u001b[0m\u001b[0;34m\u001b[0m\u001b[0m\n\u001b[1;32m    279\u001b[0m             \u001b[0m_int\u001b[0m \u001b[0;34m=\u001b[0m \u001b[0mint\u001b[0m\u001b[0;34m\u001b[0m\u001b[0;34m\u001b[0m\u001b[0m\n",
            "\u001b[0;31mTypeError\u001b[0m: 'str' object does not support item assignment"
          ]
        }
      ]
    }
  ]
}