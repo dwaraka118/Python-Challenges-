{
  "nbformat": 4,
  "nbformat_minor": 0,
  "metadata": {
    "colab": {
      "name": "password_generator_using_python.ipynb",
      "provenance": [],
      "authorship_tag": "ABX9TyMgoboyloQJG8hOi8DvU8+m",
      "include_colab_link": true
    },
    "kernelspec": {
      "name": "python3",
      "display_name": "Python 3"
    }
  },
  "cells": [
    {
      "cell_type": "markdown",
      "metadata": {
        "id": "view-in-github",
        "colab_type": "text"
      },
      "source": [
        "<a href=\"https://colab.research.google.com/github/dwaraka118/Python-Challenges-/blob/master/password_generator_using_python.ipynb\" target=\"_parent\"><img src=\"https://colab.research.google.com/assets/colab-badge.svg\" alt=\"Open In Colab\"/></a>"
      ]
    },
    {
      "cell_type": "markdown",
      "metadata": {
        "id": "-_H1PTs4pZrI",
        "colab_type": "text"
      },
      "source": [
        "simple password generator using lower case alphabets \n"
      ]
    },
    {
      "cell_type": "code",
      "metadata": {
        "id": "UsxpJvXjnrrY",
        "colab_type": "code",
        "colab": {}
      },
      "source": [
        "import random\n",
        "import string"
      ],
      "execution_count": null,
      "outputs": []
    },
    {
      "cell_type": "code",
      "metadata": {
        "id": "WdeZT2IGoBt7",
        "colab_type": "code",
        "colab": {
          "base_uri": "https://localhost:8080/",
          "height": 51
        },
        "outputId": "43fecbaf-c15b-44e0-9293-156a81c1228e"
      },
      "source": [
        "len = int(input('enter the length of password you want :'))\n",
        "def generate_strong_password(len):\n",
        "    alphabhets = string.ascii_lowercase\n",
        "    return ''.join(random.choice(alphabhets) for i in range(len))\n",
        "a = generate_strong_password(len)\n",
        "print(a)"
      ],
      "execution_count": null,
      "outputs": [
        {
          "output_type": "stream",
          "text": [
            "enter the length of password you want :9\n",
            "hdlwwgmjf\n"
          ],
          "name": "stdout"
        }
      ]
    },
    {
      "cell_type": "markdown",
      "metadata": {
        "id": "534OGVCqvxI6",
        "colab_type": "text"
      },
      "source": [
        "Mixed of small and capital letter password"
      ]
    },
    {
      "cell_type": "code",
      "metadata": {
        "id": "Jd8TFKOEoEIy",
        "colab_type": "code",
        "colab": {
          "base_uri": "https://localhost:8080/",
          "height": 51
        },
        "outputId": "f6119786-d869-4c8a-c404-e1c66f19b019"
      },
      "source": [
        "len = int(input('enter the length of password you want :'))\n",
        "def generate_strong_password(len):\n",
        "    alphabhets = string.ascii_letters\n",
        "    return ''.join(random.choice(alphabhets) for i in range(len))\n",
        "a = generate_strong_password(len)\n",
        "print(a)"
      ],
      "execution_count": null,
      "outputs": [
        {
          "output_type": "stream",
          "text": [
            "enter the length of password you want :9\n",
            "COPSxJSFy\n"
          ],
          "name": "stdout"
        }
      ]
    },
    {
      "cell_type": "markdown",
      "metadata": {
        "id": "ShcVMeuRwW_5",
        "colab_type": "text"
      },
      "source": [
        "Mixed of small and capital letter  and numbers password"
      ]
    },
    {
      "cell_type": "code",
      "metadata": {
        "id": "O0pww6SBwcYF",
        "colab_type": "code",
        "colab": {
          "base_uri": "https://localhost:8080/",
          "height": 51
        },
        "outputId": "da42ee97-1f02-483e-ff0c-19d5944252ef"
      },
      "source": [
        "len = int(input('enter the length of password you want :'))\n",
        "def generate_strong_password(len):\n",
        "    alphabhets = string.ascii_letters + string.digits\n",
        "    return ''.join(random.choice(alphabhets) for i in range(len))\n",
        "a = generate_strong_password(len)\n",
        "print(a)"
      ],
      "execution_count": null,
      "outputs": [
        {
          "output_type": "stream",
          "text": [
            "enter the length of password you want :9\n",
            "FcT8piEHP\n"
          ],
          "name": "stdout"
        }
      ]
    },
    {
      "cell_type": "markdown",
      "metadata": {
        "id": "hg-pQLNRxgcn",
        "colab_type": "text"
      },
      "source": [
        ""
      ]
    },
    {
      "cell_type": "markdown",
      "metadata": {
        "id": "13sVi_xAxhbk",
        "colab_type": "text"
      },
      "source": [
        "Mixed of small and capital letter  and numbers  and punctuationas password"
      ]
    },
    {
      "cell_type": "code",
      "metadata": {
        "id": "PH_5rwRIxmUF",
        "colab_type": "code",
        "colab": {
          "base_uri": "https://localhost:8080/",
          "height": 51
        },
        "outputId": "153d685d-d379-44da-eb1d-e34c5bc998c2"
      },
      "source": [
        "len = int(input('enter the length of password you want :'))\n",
        "def generate_strong_password(len):\n",
        "    password = string.ascii_letters + string.digits + string.punctuation\n",
        "    return ''.join(random.choice(password) for i in range(len))\n",
        "a = generate_strong_password(len)\n",
        "print(a)"
      ],
      "execution_count": null,
      "outputs": [
        {
          "output_type": "stream",
          "text": [
            "enter the length of password you want :9\n",
            "4rf26\"!R*\n"
          ],
          "name": "stdout"
        }
      ]
    }
  ]
}